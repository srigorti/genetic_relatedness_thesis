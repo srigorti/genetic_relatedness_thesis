{
 "cells": [
  {
   "cell_type": "code",
   "execution_count": 17,
   "metadata": {},
   "outputs": [],
   "source": [
    "import keras\n",
    "from keras.models import Model\n",
    "from keras.layers import Input, Dense, Dropout,Activation\n",
    "from keras.layers import Reshape, Flatten\n",
    "from keras.layers import Convolution2D,Conv2D, MaxPooling2D, Lambda\n",
    "from keras.models import Sequential\n",
    "from keras.callbacks import *\n",
    "from keras import optimizers\n",
    "from keras import backend as K\n",
    "from keras.callbacks import ModelCheckpoint\n",
    "from keras.applications import *\n",
    "#from keras.utils import to_categorical\n",
    "from keras.utils import np_utils\n",
    "from keras.losses import binary_crossentropy\n",
    "from keras.utils.generic_utils import CustomObjectScope\n",
    "import numpy as np\n",
    "from PIL import Image\n",
    "import os\n",
    "from matplotlib import pyplot as plt\n",
    "import glob\n",
    "import random\n",
    "import os\n",
    "from sklearn.utils import shuffle\n",
    "from sklearn.cross_validation import train_test_split\n",
    "\n",
    "import datetime, time, json\n",
    "from time import time\n",
    "\n",
    "%matplotlib inline"
   ]
  },
  {
   "cell_type": "code",
   "execution_count": null,
   "metadata": {},
   "outputs": [],
   "source": []
  },
  {
   "cell_type": "code",
   "execution_count": 18,
   "metadata": {},
   "outputs": [],
   "source": [
    "path1 = r'C:\\Users\\TejaDikshitulu\\Documents\\COURSEWORK\\Comp_Bio_Research\\eggs_dataset'\n",
    "path2 = r'C:\\Users\\TejaDikshitulu\\Documents\\COURSEWORK\\Comp_Bio_Research\\eggs_dataset_resized'"
   ]
  },
  {
   "cell_type": "code",
   "execution_count": 19,
   "metadata": {},
   "outputs": [],
   "source": [
    "listing = os.listdir(path1)\n",
    "num_samples = np.size(listing)\n",
    "#print(num_samples)\n",
    "\n",
    "img_rows = 50\n",
    "img_cols = 50\n",
    "for file in listing:\n",
    "    im = Image.open(path1 + '\\\\' + file)\n",
    "    img = im.resize((img_rows,img_cols))\n",
    "    gray = img.convert('L')\n",
    "    gray.save(path2 + '\\\\' + file, \"JPEG\")\n",
    "    \n"
   ]
  },
  {
   "cell_type": "code",
   "execution_count": 20,
   "metadata": {},
   "outputs": [],
   "source": [
    "imlist = os.listdir(path2)\n",
    "\n",
    "im1 = np.array(Image.open(path2 + '\\\\' + imlist[0]))\n",
    "m,n = im1.shape[0:2]\n",
    "imnbr = len(imlist)"
   ]
  },
  {
   "cell_type": "code",
   "execution_count": 21,
   "metadata": {},
   "outputs": [],
   "source": [
    "immatrix = np.array([np.array(Image.open(path2 + '\\\\' + im2)).flatten() for im2 in imlist], 'f')\n",
    "\n",
    "#print(immatrix[1])"
   ]
  },
  {
   "cell_type": "code",
   "execution_count": 22,
   "metadata": {},
   "outputs": [],
   "source": [
    "label = np.ones((num_samples,),dtype = int)\n",
    "\n",
    "#print(label)\n",
    "\n",
    "os.chdir(r'C:\\Users\\TejaDikshitulu\\Documents\\COURSEWORK\\Comp_Bio_Research\\eggs_dataset_resized')\n",
    "for file in glob.glob('*'):\n",
    "    if \"Army\" in file:\n",
    "        img_index = imlist.index(file)\n",
    "        label[img_index] = 0\n",
    "    elif \"CLFM\" in file:\n",
    "        img_index = imlist.index(file)\n",
    "        label[img_index] = 1\n",
    "        #count = count + 1\n",
    "    elif \"Muk01\" in file:\n",
    "        img_index = imlist.index(file)\n",
    "        label[img_index] = 2\n",
    "    elif \"MUK01\" in file:\n",
    "        img_index = imlist.index(file)\n",
    "        label[img_index] = 2\n",
    "    elif \"SBB\" in file:\n",
    "        img_index = imlist.index(file)\n",
    "        label[img_index] = 3\n",
    "\n",
    "#print(len(label))\n",
    "#print(label)"
   ]
  },
  {
   "cell_type": "code",
   "execution_count": 23,
   "metadata": {},
   "outputs": [
    {
     "name": "stdout",
     "output_type": "stream",
     "text": [
      "[[249. 255. 255. ... 255. 255. 255.]\n",
      " [255. 252. 249. ... 255. 255. 255.]\n",
      " [253. 254. 255. ... 255. 255. 255.]\n",
      " ...\n",
      " [255. 255. 255. ... 255. 255. 255.]\n",
      " [255. 255. 255. ... 255. 255. 255.]\n",
      " [255. 255. 254. ... 255. 255. 255.]]\n"
     ]
    }
   ],
   "source": [
    "#print(label)\n",
    "\n",
    "data, Label = shuffle(immatrix,label, random_state=2)\n",
    "train_data = [data, Label]\n",
    "\n",
    "\n",
    "print(train_data[0])"
   ]
  },
  {
   "cell_type": "code",
   "execution_count": 24,
   "metadata": {},
   "outputs": [
    {
     "data": {
      "text/plain": [
       "<matplotlib.image.AxesImage at 0x1f86bea3ba8>"
      ]
     },
     "execution_count": 24,
     "metadata": {},
     "output_type": "execute_result"
    },
    {
     "data": {
      "image/png": "[encoded data removed]",
      "text/plain": [
       "<Figure size 432x288 with 1 Axes>"
      ]
     },
     "metadata": {},
     "output_type": "display_data"
    }
   ],
   "source": [
    "img = immatrix[102].reshape(img_rows, img_cols)\n",
    "plt.imshow(img)\n",
    "plt.imshow(img, cmap = 'gray')\n",
    "#print(train_data[0].shape)\n",
    "#print(train_data[1].shape)\n"
   ]
  },
  {
   "cell_type": "code",
   "execution_count": 25,
   "metadata": {
    "scrolled": true
   },
   "outputs": [],
   "source": [
    "(X,y) = (train_data[0], train_data[1])\n",
    "\n",
    "X_train,X_test, Y_train,Y_test =train_test_split(X, y, test_size = 0.1, random_state=4)\n",
    "\n",
    "X_train= X_train.reshape(X_train.shape[0],1, img_rows, img_cols)\n",
    "X_test = X_test.reshape(X_test.shape[0], 1, img_rows, img_cols)\n",
    "\n",
    "X_train = X_train.astype('float32')\n",
    "X_test = X_test.astype('float32')\n",
    "\n",
    "X_train /= 255\n",
    "X_test/= 255\n",
    "\n",
    "\n",
    "def create_pairs(x, digit_indices):\n",
    "    pairs = []\n",
    "    labels = []\n",
    "    \n",
    "    n = min([len(digit_indices[d]) for d in range(nb_classes)]) - 1\n",
    "    #print(n)\n",
    "    #print(\"I am inside create pairs\", x[3])\n",
    "    for d in range(nb_classes):\n",
    "        for i in range(n):\n",
    "            z1, z2 = digit_indices[d][i], digit_indices[d][i + 1]\n",
    "            pairs += [[x[z1], x[z2]]]\n",
    "            inc = random.randrange(1, nb_classes)\n",
    "            dn = (d + inc) % nb_classes\n",
    "            z1, z2 = digit_indices[d][i], digit_indices[dn][i]\n",
    "            pairs += [[x[z1], x[z2]]]\n",
    "            labels += [1, 0]\n",
    "    #print(\"printing pairs\", pairs)\n",
    "    return np.array(pairs), np.array(labels)"
   ]
  },
  {
   "cell_type": "code",
   "execution_count": 27,
   "metadata": {
    "scrolled": true
   },
   "outputs": [],
   "source": [
    "digit_indices = [np.where(Y_train == i)[0] for i in range(nb_classes)]\n",
    "tr_pairs, tr_y = create_pairs(X_train, digit_indices)\n",
    "\n",
    "#digit_indices = [np.where(Y_val == i)[0] for i in range(nb_classes)]\n",
    "#val_pairs, val_y = create_pairs(X_val, digit_indices)\n",
    "\n",
    "digit_indices_test = [np.where(Y_test == i)[0] for i in range(nb_classes)]\n",
    "test_pairs, test_y = create_pairs(X_test, digit_indices_test)\n"
   ]
  },
  {
   "cell_type": "code",
   "execution_count": null,
   "metadata": {},
   "outputs": [],
   "source": [
    "#train_list = X_train.tolist()\n",
    "\n",
    "#print(\"to_list is done\")\n",
    "\n",
    "#img1 = []\n",
    "#img2 = []\n",
    "\n",
    "#for i in range(len(X_train)-1):\n",
    "#    for j in range(i+1, len(X_train)):\n",
    "#        img1.append(train_list[i][:])\n",
    "#        img2.append(train_list[j][:])\n",
    "\n",
    "\n",
    "#print(\"img1, img2\", type(img1), type(img2))\n",
    "#m = len(img1)\n",
    "#n = len(img2)\n",
    "\n",
    "#img1_array = np.asarray(img1)\n",
    "#print(\"I do reshape\", img1_array.shape)\n",
    "#img2_array = np.array(img2).reshape(n,1,img_rows,img_cols)\n",
    "#print(\"I do reshape\", img2_array.shape)"
   ]
  },
  {
   "cell_type": "code",
   "execution_count": null,
   "metadata": {},
   "outputs": [],
   "source": [
    "#print(len(X_train1))\n",
    "#print(len(y_train))\n",
    "#print(y_train.shape)\n",
    "\n",
    "#x = y_train[0] - y_train[1]\n",
    "\n",
    "#z = np.array(x).reshape(1,1)\n",
    "\n",
    "#print(z.shape)\n",
    "#print(y_train[0])\n",
    "#print(y_train[1])\n",
    "#print(y_train[200])"
   ]
  },
  {
   "cell_type": "code",
   "execution_count": null,
   "metadata": {},
   "outputs": [],
   "source": [
    "#img1_train = X_train[:,0]\n",
    "#Q2_train = X_train[:,1]\n",
    "\n",
    "#print(img1_train)\n",
    "#print(Q2_train)"
   ]
  },
  {
   "cell_type": "code",
   "execution_count": 28,
   "metadata": {},
   "outputs": [],
   "source": [
    "def euclidean_distance(vects):\n",
    "    x, y = vects\n",
    "    return K.sqrt(K.maximum(K.sum(K.square(x - y), axis=1, keepdims=True), K.epsilon()))\n",
    "\n",
    "\n",
    "def eucl_dist_output_shape(shapes):\n",
    "    shape1, shape2 = shapes\n",
    "    return (shape1[0], 1)\n",
    "\n",
    "\n",
    "def contrastive_loss(y_true, y_pred):\n",
    "    '''Contrastive loss from Hadsell-et-al.'06\n",
    "    http://yann.lecun.com/exdb/publis/pdf/hadsell-chopra-lecun-06.pdf\n",
    "    '''\n",
    "    margin = 1\n",
    "    return K.mean(y_true * K.square(y_pred) +\n",
    "                  (1 - y_true) * K.square(K.maximum(margin - y_pred, 0)))\n",
    "\n",
    "def compute_accuracy(y_true, y_pred):\n",
    "    '''Compute classification accuracy with a fixed threshold on distances.\n",
    "    '''\n",
    "    pred = y_pred.ravel() < 0.5\n",
    "    return np.mean(pred == y_true)\n",
    "\n",
    "def accuracy(y_true, y_pred):\n",
    "    '''Compute classification accuracy with a fixed threshold on distances.\n",
    "    '''\n",
    "    return K.mean(K.equal(y_true, K.cast(y_pred < 0.5, y_true.dtype)))"
   ]
  },
  {
   "cell_type": "code",
   "execution_count": 29,
   "metadata": {},
   "outputs": [],
   "source": [
    "VALIDATION_SPLIT = 0.1\n"
   ]
  },
  {
   "cell_type": "code",
   "execution_count": 26,
   "metadata": {},
   "outputs": [],
   "source": [
    "batch_size = 10\n",
    "nb_classes = 4\n",
    "nb_epoch = 20\n",
    "\n",
    "img_rows, img_cols = 50,50\n",
    "\n",
    "img_channels = 1\n",
    "\n",
    "nb_filters = 324\n",
    "nb_pool = 2\n",
    "nb_conv = 3\n",
    "\n",
    "MODEL_WEIGHTS_FILE = 'egg_pairs_weights.h5'"
   ]
  },
  {
   "cell_type": "code",
   "execution_count": 30,
   "metadata": {},
   "outputs": [
    {
     "name": "stderr",
     "output_type": "stream",
     "text": [
      "C:\\Users\\TejaDikshitulu\\Anaconda3\\lib\\site-packages\\ipykernel_launcher.py:3: UserWarning: Update your `Conv2D` call to the Keras 2 API: `Conv2D(324, 3, input_shape=(1, 50, 50..., data_format=\"channels_first\", padding=\"valid\")`\n",
      "  This is separate from the ipykernel package so we can avoid doing imports until\n"
     ]
    }
   ],
   "source": [
    "input_shape = X_train.shape[1:]\n",
    "model = Sequential()\n",
    "model.add(Conv2D(nb_filters, nb_conv, border_mode = 'valid', input_shape=(1, img_rows, img_cols), data_format = 'channels_first'))\n",
    "model.add(Conv2D(32, kernel_size=(3, 3),activation='relu',input_shape=input_shape))\n",
    "model.add(Conv2D(64, (3, 3), activation='relu'))\n",
    "\n",
    "model.add(MaxPooling2D(pool_size=(2, 2)))\n",
    "model.add(Dropout(0.25))\n",
    "model.add(Flatten())\n",
    "model.add(Dense(128, activation='relu'))\n",
    "model.add(Dropout(0.5))\n",
    "model.add(Dense(nb_classes, activation='sigmoid'))\n",
    "\n",
    "\n",
    "left_input = Input(input_shape)\n",
    "right_input = Input(input_shape)\n",
    "\n",
    "processed_a = model(left_input)\n",
    "processed_b = model(right_input)\n",
    "\n",
    "distance = Lambda(euclidean_distance,output_shape=eucl_dist_output_shape)([processed_a, processed_b])\n",
    "\n",
    "siamese_net = Model([left_input, right_input], distance)\n"
   ]
  },
  {
   "cell_type": "code",
   "execution_count": null,
   "metadata": {},
   "outputs": [],
   "source": [
    "siamese_net.summary()"
   ]
  },
  {
   "cell_type": "code",
   "execution_count": 37,
   "metadata": {},
   "outputs": [
    {
     "name": "stdout",
     "output_type": "stream",
     "text": [
      "Train on 144 samples, validate on 16 samples\n",
      "Epoch 1/20\n",
      "144/144 [==============================] - 51s 352ms/step - loss: 0.3041 - accuracy: 0.4375 - val_loss: 0.4816 - val_accuracy: 0.5000\n",
      "Epoch 2/20\n",
      "144/144 [==============================] - 56s 387ms/step - loss: 0.2819 - accuracy: 0.5208 - val_loss: 0.4816 - val_accuracy: 0.5000\n",
      "Epoch 3/20\n",
      "144/144 [==============================] - 47s 325ms/step - loss: 0.2784 - accuracy: 0.4861 - val_loss: 0.4816 - val_accuracy: 0.5000\n",
      "\n",
      "Epoch 00003: ReduceLROnPlateau reducing learning rate to 0.0001500000071246177.\n",
      "Epoch 4/20\n",
      "144/144 [==============================] - 50s 349ms/step - loss: 0.2865 - accuracy: 0.4306 - val_loss: 0.4816 - val_accuracy: 0.5000\n",
      "Epoch 5/20\n",
      "144/144 [==============================] - 54s 377ms/step - loss: 0.2936 - accuracy: 0.4375 - val_loss: 0.4815 - val_accuracy: 0.5000\n",
      "\n",
      "Epoch 00005: ReduceLROnPlateau reducing learning rate to 4.500000213738531e-05.\n",
      "Epoch 6/20\n",
      "144/144 [==============================] - 50s 349ms/step - loss: 0.2980 - accuracy: 0.4097 - val_loss: 0.4815 - val_accuracy: 0.5000\n",
      "Epoch 7/20\n",
      "144/144 [==============================] - 47s 324ms/step - loss: 0.2824 - accuracy: 0.4931 - val_loss: 0.4815 - val_accuracy: 0.5000\n",
      "\n",
      "Epoch 00007: ReduceLROnPlateau reducing learning rate to 1.3500000204658135e-05.\n",
      "Epoch 8/20\n",
      "144/144 [==============================] - 48s 336ms/step - loss: 0.2888 - accuracy: 0.4722 - val_loss: 0.4815 - val_accuracy: 0.5000\n",
      "Epoch 9/20\n",
      "144/144 [==============================] - 45s 315ms/step - loss: 0.2572 - accuracy: 0.5417 - val_loss: 0.4815 - val_accuracy: 0.5000\n",
      "\n",
      "Epoch 00009: ReduceLROnPlateau reducing learning rate to 4.050000006827758e-06.\n",
      "Epoch 10/20\n",
      "144/144 [==============================] - 45s 313ms/step - loss: 0.2827 - accuracy: 0.5139 - val_loss: 0.4815 - val_accuracy: 0.5000\n",
      "Epoch 11/20\n",
      "144/144 [==============================] - 46s 318ms/step - loss: 0.2660 - accuracy: 0.5764 - val_loss: 0.4815 - val_accuracy: 0.5000\n",
      "\n",
      "Epoch 00011: ReduceLROnPlateau reducing learning rate to 1.2149999747634864e-06.\n",
      "Epoch 12/20\n",
      "144/144 [==============================] - 58s 401ms/step - loss: 0.2869 - accuracy: 0.4583 - val_loss: 0.4815 - val_accuracy: 0.5000\n",
      "Epoch 13/20\n",
      "144/144 [==============================] - 60s 417ms/step - loss: 0.2779 - accuracy: 0.5486 - val_loss: 0.4815 - val_accuracy: 0.5000\n",
      "\n",
      "Epoch 00013: ReduceLROnPlateau reducing learning rate to 3.644999992502562e-07.\n",
      "Epoch 14/20\n",
      "144/144 [==============================] - 51s 357ms/step - loss: 0.2959 - accuracy: 0.4722 - val_loss: 0.4815 - val_accuracy: 0.5000\n",
      "Epoch 15/20\n",
      "144/144 [==============================] - 49s 343ms/step - loss: 0.2729 - accuracy: 0.5069 - val_loss: 0.4815 - val_accuracy: 0.5000\n",
      "\n",
      "Epoch 00015: ReduceLROnPlateau reducing learning rate to 1.0935000318568199e-07.\n",
      "Epoch 16/20\n",
      "144/144 [==============================] - 51s 354ms/step - loss: 0.2909 - accuracy: 0.4722 - val_loss: 0.4815 - val_accuracy: 0.5000\n",
      "Epoch 17/20\n",
      "144/144 [==============================] - 47s 327ms/step - loss: 0.2758 - accuracy: 0.5903 - val_loss: 0.4815 - val_accuracy: 0.5000\n",
      "\n",
      "Epoch 00017: ReduceLROnPlateau reducing learning rate to 3.280500138203024e-08.\n",
      "Epoch 18/20\n",
      "144/144 [==============================] - 47s 324ms/step - loss: 0.2551 - accuracy: 0.5764 - val_loss: 0.4815 - val_accuracy: 0.5000\n",
      "Epoch 19/20\n",
      "144/144 [==============================] - 52s 363ms/step - loss: 0.2821 - accuracy: 0.5208 - val_loss: 0.4815 - val_accuracy: 0.5000\n",
      "\n",
      "Epoch 00019: ReduceLROnPlateau reducing learning rate to 9.841500414609073e-09.\n",
      "Epoch 00019: early stopping\n"
     ]
    }
   ],
   "source": [
    "epochs = 20\n",
    "#rms = keras.optimizers.RMSprop()\n",
    "opt = keras.optimizers.SGD(lr = 0.0005)\n",
    "siamese_net.compile(loss=contrastive_loss, optimizer=opt, metrics=[accuracy])\n",
    "\n",
    "# train\n",
    "patience = 5\n",
    "#model_name = 'MobileNet'\n",
    "class LossHistory(keras.callbacks.Callback):\n",
    "    def on_train_begin(self, logs={}):\n",
    "        self.losses = []\n",
    "    def on_epoch_end(self, batch, logs={}):\n",
    "        self.losses.append((logs.get('loss'), logs.get(\"val_loss\")))\n",
    "        \n",
    "history = LossHistory()\n",
    "early_stopping = EarlyStopping(monitor='val_loss', patience=patience, verbose=1, mode='auto')\n",
    "checkpointer = ModelCheckpoint(MODEL_WEIGHTS_FILE, verbose=0, save_best_only=True)\n",
    "reduce_lr = ReduceLROnPlateau(factor=0.3, patience=2, verbose=1)\n",
    "\n",
    "h = siamese_net.fit([tr_pairs[:, 0], tr_pairs[:, 1]], tr_y,\n",
    "          batch_size=32,\n",
    "          epochs=epochs,\n",
    "          validation_split=VALIDATION_SPLIT,\n",
    "          callbacks=[history, early_stopping,checkpointer, reduce_lr],\n",
    "          shuffle= True)"
   ]
  },
  {
   "cell_type": "code",
   "execution_count": null,
   "metadata": {},
   "outputs": [],
   "source": [
    "siamese_net.load_weights(MODEL_WEIGHTS_FILE)\n",
    "loss, accuracy = siamese_net.evaluate([test_pairs[:,0], test_pairs[:,1]], test_y, verbose=1)\n",
    "print('loss = {0:.4f}, accuracy = {1:.4f}'.format(loss, accuracy))\n",
    "    "
   ]
  },
  {
   "cell_type": "code",
   "execution_count": null,
   "metadata": {
    "scrolled": false
   },
   "outputs": [],
   "source": [
    "#training_start_time = time()\n",
    "\n",
    "#train_list = X_train.tolist()\n",
    "\n",
    "#for i in range(len(X_train)-1):\n",
    "#    for j in range(i+1, len(X_train)):\n",
    "        #img1.append(train_list[i][:])\n",
    "        #img2.append(train_list[j][:])\n",
    "#        img1 = X_train[i][:]\n",
    "#        img2 = X_train[j][:]\n",
    "#        img1_train = img1.reshape(1,1, img_rows, img_cols)\n",
    "#        img2_train = img2.reshape(1,1, img_rows, img_cols)\n",
    "#        y_1 = y_train[i] - y_train[j]\n",
    "#        y_train1 = np.array(y_1).reshape(1,1)\n",
    "#        malstm_trained = siamese_net.fit([img1_train, img2_train],y_train1,nb_epoch=nb_epoch, verbose = 1, batch_size = batch_size,callbacks=callbacks_list)\n",
    "\n",
    "        \n",
    "#print(\"Training time finished.\\n{} epochs in {}\".format(nb_epoch, datetime.timedelta(seconds=time()-training_start_time)))\n",
    "#m = len(img1)\n",
    "#n = len(img2)\n",
    "#img1_array = np.array(img1).reshape(m,1,img_rows,img_cols)\n",
    "#img2_array = np.array(img2).reshape(n,1,img_rows,img_cols)\n",
    "\n",
    "#for img1 in np.nditer(X_train, flags = ['external_loop']):\n",
    "#    for img2 in np.nditer(X_train, flags = ['external_loop']):\n",
    " #       print(type(img1))\n",
    "        #print(img1)\n",
    " #       print(img1.shape)\n",
    "        #print(len(X_train[0]))\n",
    "        #print(X_train.shape)\n",
    "  #      img1_train = img1.reshape(X_train[0],1, img_rows, img_cols)\n",
    "   #     print(img1_train.shape)\n",
    "        #img2_r = image2.reshape(1, img_rows, img_cols)\n",
    "        #img1_train = img1_r[238,:,:,:]\n",
    "        #img2_train = img2_r[238,:,:,:]\n",
    "    \n",
    "\n"
   ]
  },
  {
   "cell_type": "code",
   "execution_count": null,
   "metadata": {},
   "outputs": [],
   "source": [
    "#input_shape = X_train.shape[1:]\n",
    "#left_input = Input(input_shape)\n",
    "#right_input = Input(input_shape)\n",
    "\n",
    "#convnet = Sequential()\n",
    "\n",
    "#convnet.add(Convolution2D(nb_filters, nb_conv, border_mode = 'valid', input_shape=(1, img_rows, img_cols), data_format = 'channels_first'))\n",
    "#convout1 = Activation('relu')\n",
    "#convnet.add(convout1)\n",
    "#convnet.add(Convolution2D(nb_filters,nb_conv,nb_conv))\n",
    "#convout2 = Activation('relu')\n",
    "#convnet.add(convout2)\n",
    "#convnet.add(MaxPooling2D(pool_size = (nb_pool, nb_pool)))\n",
    "#convnet.add(Dropout(0.5))\n",
    "\n",
    "#convnet.add(Flatten())\n",
    "#convnet.add(Dense(128))\n",
    "#convnet.add(Activation('relu'))\n",
    "#convnet.add(Dropout(0.5))\n",
    "#convnet.add(Dense(nb_classes))\n",
    "\n",
    "#processed_a = convnet(left_input)\n",
    "#processed_b = convnet(right_input)\n",
    "\n",
    "#distance = Lambda(euclidean_distance,output_shape=eucl_dist_output_shape)([processed_a, processed_b])\n",
    "\n",
    "#siamese_net = Model([left_input, right_input], distance)\n",
    "\n",
    "#L1_layer = Lambda(lambda tensors:K.abs(tensors[0] - tensors[1]))\n",
    "#L1_distance = L1_layer([encoded_l, encoded_r])\n",
    "\n",
    "#prediction = Dense(1, activation = 'sigmoid')(L1_distance)\n",
    "\n",
    "#malstm_distance = Merge(mode=lambda x: exponent_neg_manhattan_distance(x[0], x[1]), output_shape=lambda x: (x[0][0], 1))([question11_op, question22_op])\n",
    "\n",
    "#siamese_net.compile(loss='binary_crossentropy', optimizer='adadelta', metrics=['accuracy'])\n",
    "\n",
    "#filepath=\"weights.best.hdf5\"\n",
    "#checkpoint = ModelCheckpoint(filepath, monitor='val_acc', verbose=1, save_best_only=True, mode='max')\n",
    "#callbacks_list = [checkpoint]"
   ]
  },
  {
   "cell_type": "code",
   "execution_count": null,
   "metadata": {},
   "outputs": [],
   "source": [
    "#print(digit_indices[0])\n",
    "#print(digit_indices[1])\n",
    "#print(digit_indices[2])\n",
    "#print(digit_indices[3])\n",
    "#print(digit_indices[4])\n",
    "#print(min([len(digit_indices[d]) for d in range(nb_classes)]))\n",
    "\n",
    "\n",
    "#print(type(tr_pairs))\n",
    "\n",
    "#print(tr_pairs)"
   ]
  },
  {
   "cell_type": "code",
   "execution_count": null,
   "metadata": {},
   "outputs": [],
   "source": [
    "#max_val_acc, idx = max((val, idx) for (idx, val) in enumerate(malstm_trained.history['val_acc']))\n",
    "#print('Maximum accuracy at epoch', '{:d}'.format(idx+1), '=', '{:.4f}'.format(max_val_acc)"
   ]
  },
  {
   "cell_type": "code",
   "execution_count": null,
   "metadata": {},
   "outputs": [],
   "source": []
  }
 ],
 "metadata": {
  "kernelspec": {
   "display_name": "Python 3",
   "language": "python",
   "name": "python3"
  },
  "language_info": {
   "codemirror_mode": {
    "name": "ipython",
    "version": 3
   },
   "file_extension": ".py",
   "mimetype": "text/x-python",
   "name": "python",
   "nbconvert_exporter": "python",
   "pygments_lexer": "ipython3",
   "version": "3.6.5"
  }
 },
 "nbformat": 4,
 "nbformat_minor": 2
}
